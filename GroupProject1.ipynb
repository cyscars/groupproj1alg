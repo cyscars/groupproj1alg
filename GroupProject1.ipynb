{
  "nbformat": 4,
  "nbformat_minor": 0,
  "metadata": {
    "colab": {
      "provenance": [],
      "include_colab_link": true
    },
    "kernelspec": {
      "name": "python3",
      "display_name": "Python 3"
    },
    "language_info": {
      "name": "python"
    }
  },
  "cells": [
    {
      "cell_type": "markdown",
      "metadata": {
        "id": "view-in-github",
        "colab_type": "text"
      },
      "source": [
        "<a href=\"https://colab.research.google.com/github/cyscars/groupproj1alg/blob/main/GroupProject1.ipynb\" target=\"_parent\"><img src=\"https://colab.research.google.com/assets/colab-badge.svg\" alt=\"Open In Colab\"/></a>"
      ]
    },
    {
      "cell_type": "code",
      "execution_count": null,
      "metadata": {
        "id": "oN7orrPFRFU-"
      },
      "outputs": [],
      "source": []
    },
    {
      "cell_type": "markdown",
      "source": [
        "\n",
        "\n",
        "1.   Sort by dependencies (Kahn's algorithm?)\n",
        "2.   Sort by resources\n",
        "\n"
      ],
      "metadata": {
        "id": "mzfmClYQRVAY"
      }
    },
    {
      "cell_type": "code",
      "source": [
        "class task:\n",
        "    def __init__(self, duration= 0, dependencies= None, workers= 0,id=0,priority=1)\n",
        "        self.duration = duration\n",
        "        self.duration_mean = duration_mean\n",
        "        self.std_dev = std_dev\n",
        "        self.dependencies = dependencies\n",
        "        self.workers = workers\n",
        "        self.id = task_id\n",
        "        self.priority = priority\n",
        "\n",
        "tasks = []\n",
        "\n",
        "    def estimated_Duration(self):\n",
        "      if self.duration_mean is not None and self.std_dev is not None:\n",
        "          return self.duration_mean\n",
        "      else\n",
        "        return self.duration\n",
        "\n",
        "\n",
        "\n",
        "\n",
        "\n",
        "    def addTask():\n",
        "      pass\n",
        "    #add task to array\n",
        "\n",
        "    def removeTask():\n",
        "      pass\n",
        "    #remove task from array\n",
        "    #check for dependent tasks\n",
        "    #remove dependent tasks\n",
        "\n",
        "    def updateTask():\n",
        "      pass\n",
        "    #find task in array\n",
        "    #update value(priority or duration or something)\n",
        "\n",
        "    def topoSort():\n",
        "      pass\n",
        "    #toposort\n",
        "\n",
        "    def scheduleTasks():\n",
        "      pass\n",
        "    #run toposort\n",
        "    def printReport():\n",
        "      pass\n",
        "\n",
        "\n"
      ],
      "metadata": {
        "id": "PiOfmiYlRdg7"
      },
      "execution_count": null,
      "outputs": []
    },
    {
      "cell_type": "markdown",
      "source": [
        "https://docs.google.com/document/d/1qtDOaQlXi_zw_Yf-mW6ErCcoP5n275ljEYAUF8labX0/edit?usp=sharing\n",
        "1. Input Parser - Accept tasks with:\n",
        "\n",
        "*   Unique ID\n",
        "*   Duration (or probabilistic duration)(i.e mean)\n",
        "*   Dependencies (list of task IDs)\n",
        "*   Workers required\n",
        "*   Priority level\n",
        "*   Optional deadline\n",
        "\n",
        "\n",
        "Accept system-wide constraints:\n",
        "\n",
        "*   Total available resources (workers)\n",
        "*   Deadline constraints\n",
        "\n",
        "\n",
        "A company is planning a multi-team event where multiple dependent tasks must\n",
        "be completed before the event occurs.\n",
        "Each task:\n",
        "\n",
        "• Has dependencies on other tasks (must be completed before starting).\n",
        "\n",
        "• Requires a limited number of resources (workers, machines, or venues).\n",
        "\n",
        "• Has a variable duration due to uncertainty (e.g., worker efficiency,\n",
        "unpredictable delays).\n",
        "\n",
        "• Can have strict deadlines, costs, or priority constraints.\n",
        "\n",
        "• May be dynamically inserted, modified, or removed after scheduling\n",
        "starts.\n",
        "\n",
        "\n",
        "The system should generate an optimized schedule that considers all these\n",
        "constraints and adapts dynamically to new tasks.\n",
        "\n",
        "Input Format\n",
        "1. Task List with Dependencies\n",
        "\n",
        "  o Each task has a duration, dependencies, and a priority level.\n",
        "\n",
        "  o Some tasks may have hard deadlines that cannot be exceeded.\n",
        "2. Resource Constraints\n",
        "\n",
        "  o Each task requires a specific number of workers/machines.\n",
        "\n",
        "  o The system must allocate resources optimally to minimize delays.\n",
        "3. Uncertainty Modeling (Hard Mode Feature)\n",
        "\n",
        "  o Tasks may have probabilistic durations (e.g., completion times\n",
        "follow a normal distribution).\n",
        "\n",
        "  o The system must compute expected completion times and\n",
        "provide confidence intervals.\n",
        "4. Dynamic Task Modifications (Real-Time Adaptation)\n",
        "\n",
        "  o Tasks can be added, removed, or reprioritized while scheduling is in\n",
        "progress."
      ],
      "metadata": {
        "id": "AG8Y36nQSPHg"
      }
    },
    {
      "cell_type": "markdown",
      "source": [
        "Example Input :\n",
        "\n",
        "Tasks:\n",
        "\n",
        "A: Duration = 2, Dependencies = [], Workers Required = 1\n",
        "\n",
        "B: Duration = 3, Dependencies = [A], Workers Required = 2\n",
        "\n",
        "C: Duration = 4, Dependencies = [A], Workers Required = 1\n",
        "\n",
        "D: Duration = 2, Dependencies = [B, C], Workers Required = 3\n",
        "\n",
        "E: Duration = 5, Dependencies = [B], Workers Required = 2\n",
        "\n",
        "F: Duration = 3, Dependencies = [D, E], Workers Required = 1\n",
        "\n",
        "Resources Available: 4 Workers\n",
        "\n",
        "Hard Deadline: Task F must finish before day 12\n",
        "\n",
        "Expected Output:\n",
        "\n",
        "Sorted Task Execution Order (Topological Sort): ['A', 'B', 'C', 'D', 'E', 'F']\n",
        "\n",
        "Task Schedule:\n",
        "\n",
        "Task A: Start at 0, End at 2\n",
        "\n",
        "Task B: Start at 2, End at 5\n",
        "\n",
        "Task C: Start at 2, End at 6\n",
        "\n",
        "Task D: Start at 6, End at 8\n",
        "\n",
        "Task E: Start at 5, End at 10\n",
        "\n",
        "Task F: Start at 10, End at 13\n",
        "\n",
        "Total Project Completion Time: 13 (Missed Deadline!)"
      ],
      "metadata": {
        "id": "p9nQXstWSjw-"
      }
    }
  ]
}